{
 "cells": [
  {
   "cell_type": "code",
   "execution_count": null,
   "metadata": {},
   "outputs": [],
   "source": [
    "import numpy as np\n",
    "import pandas as pd\n",
    "import re"
   ]
  },
  {
   "cell_type": "code",
   "execution_count": null,
   "metadata": {},
   "outputs": [],
   "source": [
    "items_25 = pd.read_csv(\"../Final Project/items_2025.csv\")\n",
    "prices_25 = pd.read_csv(\"../Final Project/prices_2025_cross_section.csv\")"
   ]
  },
  {
   "cell_type": "code",
   "execution_count": null,
   "metadata": {},
   "outputs": [],
   "source": [
    "male_words = ['man', 'men', 'male', 'masculine', 'boy', 'boys', 'him', 'his', 'he']\n",
    "female_words = ['woman', 'women', 'female', 'feminine', 'girl', 'girls', 'her', 'hers', 'she']"
   ]
  },
  {
   "cell_type": "code",
   "execution_count": null,
   "metadata": {},
   "outputs": [],
   "source": [
    "items_25_mf = items_25"
   ]
  },
  {
   "cell_type": "code",
   "execution_count": null,
   "metadata": {},
   "outputs": [],
   "source": [
    "def words_in_string(word_list, title):\n",
    "    if str(set(word_list).intersection(title.split())) == 'set()':\n",
    "        return False\n",
    "    else:\n",
    "        return True"
   ]
  },
  {
   "cell_type": "code",
   "execution_count": null,
   "metadata": {},
   "outputs": [],
   "source": [
    "items_25_mf['m'] = 0\n",
    "items_25_mf['f'] = 0\n",
    "items_25_mf['n'] = 0\n",
    "items_25_mf['b'] = 0\n",
    "\n",
    "for i in range(len(items_25_mf['product_title'])):\n",
    "    pt = items_25_mf['product_title'][i]\n",
    "    pt_std =  re.sub(r'[^\\w\\s]','',pt.lower())\n",
    "    if (words_in_string(male_words, pt_std) == True) & (words_in_string(female_words, pt_std) == False): # If there is a male word but not a female word\n",
    "        items_25_mf['m'][i] = 1\n",
    "    elif (words_in_string(male_words, pt_std) == False) & (words_in_string(female_words, pt_std) == True): # If there is a female word but not a male word\n",
    "        items_25_mf['f'][i] = 1\n",
    "    elif (words_in_string(male_words, pt_std) == False) & (words_in_string(female_words, pt_std) == False): # If there is neither a male or female word\n",
    "        items_25_mf['n'][i] = 1\n",
    "    elif (words_in_string(male_words, pt_std) == True) & (words_in_string(female_words, pt_std) == True): # If there is both a male and female word\n",
    "        items_25_mf['b'][i] = 1\n",
    "    else:\n",
    "        print(f'{i}');"
   ]
  },
  {
   "cell_type": "code",
   "execution_count": null,
   "metadata": {},
   "outputs": [],
   "source": [
    "print(f'male items are {round(items_25_mf['m'].sum()/len(items_25_mf) * 100,2)}% of cases')\n",
    "print(f'female items are {round(items_25_mf['f'].sum()/len(items_25_mf) * 100,2)}% of cases')\n",
    "print(f'neutral items are {round(items_25_mf['n'].sum()/len(items_25_mf) * 100,2)}% of cases')\n",
    "print(f'both items are {round(items_25_mf['b'].sum()/len(items_25_mf) * 100,2)}% of cases')"
   ]
  },
  {
   "cell_type": "code",
   "execution_count": null,
   "metadata": {},
   "outputs": [],
   "source": [
    "m_list = []\n",
    "f_list = []\n",
    "n_list = []\n",
    "b_list = []\n",
    "\n",
    "for i in range(len(items_25_mf['product_title'])):\n",
    "    pt = items_25_mf['product_title'][i]\n",
    "    pt_std =  re.sub(r'[^\\w\\s]','',pt.lower())\n",
    "    if items_25_mf['m'][i] == 1:\n",
    "        m_list.append(pt_std.split())\n",
    "    if items_25_mf['f'][i] == 1:\n",
    "        f_list.append(pt_std.split())\n",
    "    if items_25_mf['n'][i] == 1:\n",
    "        n_list.append(pt_std.split())\n",
    "    if items_25_mf['b'][i] == 1:\n",
    "        b_list.append(pt_std.split())"
   ]
  },
  {
   "cell_type": "code",
   "execution_count": null,
   "metadata": {},
   "outputs": [],
   "source": [
    "m_list = [word for title in m_list for word in title]\n",
    "f_list = [word for title in f_list for word in title]\n",
    "n_list = [word for title in n_list for word in title]\n",
    "b_list = [word for title in b_list for word in title]"
   ]
  },
  {
   "cell_type": "code",
   "execution_count": null,
   "metadata": {},
   "outputs": [],
   "source": [
    "def word_freq(x_list, x_list_count):\n",
    "    #x_list_count = []\n",
    "    for word in set(x_list):\n",
    "        x_list_count.append([word,x_list.count(word)/len(x_list)])"
   ]
  },
  {
   "cell_type": "code",
   "execution_count": null,
   "metadata": {},
   "outputs": [],
   "source": [
    "m_list_count = []\n",
    "f_list_count = []\n",
    "n_list_count = []\n",
    "b_list_count = []"
   ]
  },
  {
   "cell_type": "code",
   "execution_count": null,
   "metadata": {},
   "outputs": [],
   "source": [
    "word_freq(m_list,m_list_count)\n",
    "word_freq(f_list,f_list_count)\n",
    "word_freq(n_list,n_list_count)\n",
    "word_freq(b_list,b_list_count)"
   ]
  },
  {
   "cell_type": "code",
   "execution_count": null,
   "metadata": {},
   "outputs": [],
   "source": [
    "m_df = pd.DataFrame(m_list_count, columns= ['word','m_titles_freq'])\n",
    "f_df = pd.DataFrame(f_list_count, columns= ['word','f_titles_freq'])\n",
    "n_df = pd.DataFrame(n_list_count, columns= ['word','n_titles_freq'])\n",
    "b_df = pd.DataFrame(b_list_count, columns= ['word','b_titles_freq'])"
   ]
  },
  {
   "cell_type": "code",
   "execution_count": null,
   "metadata": {},
   "outputs": [],
   "source": [
    "comb_df = m_df.merge(f_df, how='outer',on='word').merge(n_df, how='outer', on='word').merge(b_df, how='outer', on='word')"
   ]
  },
  {
   "cell_type": "code",
   "execution_count": null,
   "metadata": {},
   "outputs": [],
   "source": [
    "comb_df['m_titles_freq'] = comb_df['m_titles_freq'].fillna(0)\n",
    "comb_df['f_titles_freq'] = comb_df['f_titles_freq'].fillna(0)\n",
    "comb_df['n_titles_freq'] = comb_df['n_titles_freq'].fillna(0)\n",
    "comb_df['b_titles_freq'] = comb_df['b_titles_freq'].fillna(0)"
   ]
  },
  {
   "cell_type": "code",
   "execution_count": null,
   "metadata": {},
   "outputs": [],
   "source": [
    "comb_df['m_freq_net'] = comb_df['m_titles_freq'] -  comb_df['n_titles_freq']\n",
    "comb_df['f_freq_net'] = comb_df['f_titles_freq'] -  comb_df['n_titles_freq']\n",
    "comb_df['b_freq_net'] = comb_df['b_titles_freq'] -  comb_df['n_titles_freq']"
   ]
  },
  {
   "cell_type": "code",
   "execution_count": null,
   "metadata": {},
   "outputs": [],
   "source": [
    "comb_df_fil = comb_df[~comb_df['word'].isin(male_words)]\n",
    "comb_df_fil = comb_df_fil[~comb_df_fil['word'].isin(female_words)]"
   ]
  },
  {
   "cell_type": "code",
   "execution_count": null,
   "metadata": {},
   "outputs": [],
   "source": [
    "comb_df_fil.sort_values('m_freq_net', ascending=False)['word'][0:10]"
   ]
  },
  {
   "cell_type": "code",
   "execution_count": null,
   "metadata": {},
   "outputs": [],
   "source": [
    "comb_df_fil.sort_values('f_freq_net', ascending=False)['word'][0:10]"
   ]
  }
 ],
 "metadata": {
  "language_info": {
   "name": "python"
  }
 },
 "nbformat": 4,
 "nbformat_minor": 2
}
