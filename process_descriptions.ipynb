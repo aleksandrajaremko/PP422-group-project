{
 "cells": [
  {
   "cell_type": "code",
   "execution_count": 2,
   "metadata": {},
   "outputs": [],
   "source": [
    "import pandas as pd\n",
    "import numpy as np\n",
    "import re\n",
    "\n",
    "import nltk\n",
    "from nltk.stem import WordNetLemmatizer\n",
    "from nltk.corpus import stopwords\n",
    "from nltk.tokenize import word_tokenize\n",
    "from nltk.corpus import words"
   ]
  },
  {
   "cell_type": "code",
   "execution_count": 3,
   "metadata": {},
   "outputs": [
    {
     "name": "stderr",
     "output_type": "stream",
     "text": [
      "/var/folders/qz/pj0lh7817m3c9ydwgfrtbtf00000gn/T/ipykernel_7388/3287859164.py:2: DtypeWarning: Columns (4) have mixed types. Specify dtype option on import or set low_memory=False.\n",
      "  tesco_desc = pd.read_csv(\"../Final Project/tesco_parsed.csv\")\n"
     ]
    }
   ],
   "source": [
    "items_25 = pd.read_csv(\"../Final Project/items_2025.csv\")\n",
    "tesco_desc = pd.read_csv(\"../Final Project/tesco_parsed.csv\")\n",
    "asda_desc = pd.read_csv(\"../Final Project/asda_parsed_item_info.csv\")\n",
    "morrisons_desc = pd.read_csv(\"../Final Project/detailed_item_info_morrisons_2025-03-18_10-46-10.csv\")\n",
    "waitrose_desc = pd.read_csv(\"../Final Project/all_waitrose_item_info.csv\")\n",
    "sainsburys_desc = pd.read_csv(\"../Final Project/sainsburys_product_details.csv\")"
   ]
  },
  {
   "cell_type": "code",
   "execution_count": 14,
   "metadata": {},
   "outputs": [],
   "source": [
    "cols = ['store_id','product_id','product_title','summary','description']\n",
    "item_desc = pd.concat([tesco_desc[cols],sainsburys_desc[cols],asda_desc[cols],morrisons_desc[cols],waitrose_desc[cols]])\n",
    "item_desc['TSD'] = item_desc['product_title'] + ' ' + item_desc['summary'] + ' ' +  item_desc['description']"
   ]
  },
  {
   "cell_type": "code",
   "execution_count": 15,
   "metadata": {},
   "outputs": [
    {
     "name": "stderr",
     "output_type": "stream",
     "text": [
      "[nltk_data] Downloading package punkt to /Users/sambickel-\n",
      "[nltk_data]     barlow/nltk_data...\n",
      "[nltk_data]   Package punkt is already up-to-date!\n",
      "[nltk_data] Downloading package stopwords to /Users/sambickel-\n",
      "[nltk_data]     barlow/nltk_data...\n",
      "[nltk_data]   Package stopwords is already up-to-date!\n",
      "[nltk_data] Downloading package wordnet to /Users/sambickel-\n",
      "[nltk_data]     barlow/nltk_data...\n",
      "[nltk_data]   Package wordnet is already up-to-date!\n",
      "[nltk_data] Downloading package words to /Users/sambickel-\n",
      "[nltk_data]     barlow/nltk_data...\n",
      "[nltk_data]   Package words is already up-to-date!\n"
     ]
    },
    {
     "data": {
      "text/plain": [
       "True"
      ]
     },
     "execution_count": 15,
     "metadata": {},
     "output_type": "execute_result"
    }
   ],
   "source": [
    "# Ensure necessary nltk resources are available\n",
    "nltk.download('punkt')\n",
    "nltk.download('stopwords')\n",
    "nltk.download('wordnet')\n",
    "nltk.download('words')"
   ]
  },
  {
   "cell_type": "code",
   "execution_count": 16,
   "metadata": {},
   "outputs": [],
   "source": [
    "stop_words = stopwords.words('english')\n",
    "english_words = set(words.words())"
   ]
  },
  {
   "cell_type": "code",
   "execution_count": 17,
   "metadata": {},
   "outputs": [],
   "source": [
    "# Preprocessing function\n",
    "def preprocess_text(text):\n",
    "    text = text.lower()  # Lowercase\n",
    "    text = re.sub(r'[^a-z\\s]', '', text)  # Remove punctuation\n",
    "    tokens = word_tokenize(text)  # Tokenize\n",
    "    lemmatizer = WordNetLemmatizer()\n",
    "    tokens = [lemmatizer.lemmatize(word) for word in tokens]  # Lemmatize\n",
    "    tokens = [word for word in tokens if word not in stopwords.words('english')]  # Remove stopwords\n",
    "    tokens = [word for word in tokens if word in english_words]  # Remove non-english words\n",
    "    return \" \".join(tokens)"
   ]
  },
  {
   "cell_type": "code",
   "execution_count": null,
   "metadata": {},
   "outputs": [],
   "source": [
    "# Apply preprocessing\n",
    "item_desc['TSD'] = item_desc['TSD'].astype(str)\n",
    "item_desc['processed'] = item_desc['TSD'].apply(preprocess_text)"
   ]
  },
  {
   "cell_type": "code",
   "execution_count": null,
   "metadata": {},
   "outputs": [],
   "source": [
    "item_desc.to_csv('/Users/sambickel-barlow/Desktop/PP422/Final Project/all_desc_processed.csv')"
   ]
  }
 ],
 "metadata": {
  "kernelspec": {
   "display_name": "base",
   "language": "python",
   "name": "python3"
  },
  "language_info": {
   "codemirror_mode": {
    "name": "ipython",
    "version": 3
   },
   "file_extension": ".py",
   "mimetype": "text/x-python",
   "name": "python",
   "nbconvert_exporter": "python",
   "pygments_lexer": "ipython3",
   "version": "3.12.2"
  }
 },
 "nbformat": 4,
 "nbformat_minor": 2
}
